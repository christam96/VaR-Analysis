{
 "cells": [
  {
   "cell_type": "markdown",
   "metadata": {},
   "source": [
    "### VaR Historical Simulation\n",
    "The Historical Simulation Method entails calculating daily portfolio changes in value to determine the probability distribution of returns. It does that by looking at how your portfolio would have behaved historically.\n",
    "Once you have your portfolio’s returns, or losses, you can calculate within a confidence interval the worst possible outcome.\n",
    "\n",
    "Tutorial: https://towardsdatascience.com/learn-to-calculate-your-portfolios-value-at-risk-e1e2c5c68456"
   ]
  },
  {
   "cell_type": "code",
   "execution_count": 1,
   "metadata": {},
   "outputs": [],
   "source": [
    "# Imports\n",
    "import pandas as pd\n",
    "import seaborn as sns\n",
    "import matplotlib.pyplot as plt\n",
    "import numpy as np\n",
    "import yfinance as yf\n",
    "import datetime as dt\n",
    "\n",
    "# Display at most 10 rows\n",
    "pd.set_option('display.max_rows', 10)\n"
   ]
  },
  {
   "cell_type": "code",
   "execution_count": 2,
   "metadata": {},
   "outputs": [
    {
     "name": "stdout",
     "output_type": "stream",
     "text": [
      "['GOOGL', 'TSLA', 'AAPL']\n",
      "[INFO] Calculating the max amount of money the portfolio will lose within 50 days 95 percent of the time.\n"
     ]
    }
   ],
   "source": [
    "'''\n",
    "User Set Up\n",
    "'''\n",
    "\n",
    "data = {'Stocks':['GOOGL', 'TSLA','AAPL'], 'Quantity':[100, 50, 300]} #Define your holdings\n",
    "ScenariosNo = 1500 #Define the number of scenarios you want to run (i.e. # days looking back)\n",
    "Percentile = 95 #Define your confidence interval\n",
    "VarDaysHorizon = 50 #Define your time period\n",
    "info = 1 #1 if you want more info returned by the script\n",
    "today = dt.date.today() - dt.timedelta(days=1)\n",
    "\n",
    "Tickers = []\n",
    "for ticker in data['Stocks']:\n",
    "    Tickers.append(ticker)\n",
    "print(Tickers)\n",
    "\n",
    "# Create a DataFrame of holdings\n",
    "df = pd.DataFrame(data)\n",
    "print('[INFO] Calculating the max amount of money the portfolio will lose within', VarDaysHorizon, 'days', Percentile, 'percent of the time.')"
   ]
  },
  {
   "cell_type": "code",
   "execution_count": 3,
   "metadata": {},
   "outputs": [
    {
     "name": "stdout",
     "output_type": "stream",
     "text": [
      "[INFO] Fetching stock prices for portfolio holdings\n",
      "[INFO] Portfolio Holdings determined as ['GOOGL', 'TSLA', 'AAPL']\n",
      "[INFO] Portfolio Weights determined as [100, 50, 300]\n",
      "[*********************100%***********************]  3 of 3 completed\n",
      "[INFO] Fetching stock prices completed. 1034 days.\n",
      "HistData: \n",
      "                   AAPL        GOOGL        TSLA\n",
      "Date                                           \n",
      "2016-02-02   88.079926   780.909973  182.779999\n",
      "2016-02-03   89.823242   749.380005  173.479996\n",
      "2016-02-04   90.544991   730.030029  175.330002\n",
      "2016-02-05   88.126694   703.760010  162.600006\n",
      "2016-02-08   89.054657   704.159973  147.990005\n",
      "...                ...          ...         ...\n",
      "2020-03-05  292.920013  1314.760010  724.539978\n",
      "2020-03-06  289.029999  1295.739990  703.479980\n",
      "2020-03-09  266.170013  1215.790039  608.000000\n",
      "2020-03-10  285.339996  1275.170044  645.330017\n",
      "2020-03-11  275.429993  1210.900024  634.229980\n",
      "\n",
      "[1034 rows x 3 columns]\n"
     ]
    }
   ],
   "source": [
    "def SourceHistoricPrices():\n",
    "    if info == 1: print('[INFO] Fetching stock prices for portfolio holdings')\n",
    "    Tickers = []\n",
    "    i=0\n",
    "    for ticker in data:\n",
    "        while i <= len(data):\n",
    "            Tickers.append(data[ticker][i])\n",
    "            i=i+1\n",
    "    if info == 1: print('[INFO] Portfolio Holdings determined as', Tickers)\n",
    "    if info == 1: print('[INFO] Portfolio Weights determined as', data['Quantity'])\n",
    "    \n",
    "    #Call the yFinance and store the data\n",
    "    global HistData\n",
    "    endDate =(dt.date.today() - dt.timedelta(days=ScenariosNo))\n",
    "    HistData = yf.download(\"GOOGL TSLA AAPL\", start =str(endDate), end =str(today))\n",
    "    \n",
    "    if info == 1: print('[INFO] Fetching stock prices completed.', len(HistData), 'days.')\n",
    "    HistData= HistData['Adj Close']\n",
    "    print('HistData: \\n', HistData)\n",
    "    return(HistData)\n",
    "\n",
    "HistData = SourceHistoricPrices()"
   ]
  },
  {
   "cell_type": "code",
   "execution_count": 4,
   "metadata": {},
   "outputs": [
    {
     "name": "stdout",
     "output_type": "stream",
     "text": [
      "[INFO] Calculating the portfolio value for each day\n",
      "Tickers:  ['GOOGL', 'TSLA', 'AAPL']\n",
      "                  AAPL        GOOGL        TSLA  PortfolioValue\n",
      "Date                                                           \n",
      "2016-02-02   88.079926   780.909973  182.779999   113653.974915\n",
      "2016-02-03   89.823242   749.380005  173.479996   110558.972931\n",
      "2016-02-04   90.544991   730.030029  175.330002   108933.000183\n",
      "2016-02-05   88.126694   703.760010  162.600006   104944.009399\n",
      "2016-02-08   89.054657   704.159973  147.990005   104531.894684\n",
      "...                ...          ...         ...             ...\n",
      "2020-03-05  292.920013  1314.760010  724.539978   255579.003906\n",
      "2020-03-06  289.029999  1295.739990  703.479980   251456.997681\n",
      "2020-03-09  266.170013  1215.790039  608.000000   231830.007935\n",
      "2020-03-10  285.339996  1275.170044  645.330017   245385.504150\n",
      "2020-03-11  275.429993  1210.900024  634.229980   235430.499268\n",
      "\n",
      "[1034 rows x 4 columns]\n"
     ]
    }
   ],
   "source": [
    "def ValuePortfolio():\n",
    "    if info == 1: print('[INFO] Calculating the portfolio value for each day')\n",
    "    HistData['PortfolioValue'] = 0.0\n",
    "    print('Tickers: ', Tickers)\n",
    "    for i in range(len(HistData)):\n",
    "        val = (HistData[\"AAPL\"][i] * 300) + (HistData[\"GOOGL\"][i] * 100) + (HistData[\"TSLA\"][i] * 50)\n",
    "        HistData['PortfolioValue'][i] = val\n",
    "        \n",
    "HistData.fillna(0, inplace = True)\n",
    "ValuePortfolio()\n",
    "print(HistData)"
   ]
  },
  {
   "cell_type": "code",
   "execution_count": 5,
   "metadata": {},
   "outputs": [
    {
     "name": "stdout",
     "output_type": "stream",
     "text": [
      "[INFO] Calculating Daily % Changes\n",
      "[INFO] Picking 235430.5  value from  2020-03-11  as the latest valuation to base the monetary returns\n",
      "[INFO] Picking the 52 th highest value\n",
      "[INFO] Sorting the results by highest max loss\n",
      "The portfolio's VaR is: -38811.93\n"
     ]
    }
   ],
   "source": [
    "def CalculateVaR():\n",
    "    if info == 1: print('[INFO] Calculating Daily % Changes')\n",
    "    #calculating percentage change\n",
    "    HistData['Perc_Change'] = HistData['PortfolioValue'].pct_change()\n",
    "    #calculate money change based on current valuation\n",
    "    HistData['DollarChange'] = HistData.loc[HistData.index.max()]['PortfolioValue'] * HistData['Perc_Change'] \n",
    "    if info == 1: print('[INFO] Picking', round(HistData.loc[HistData.index.max()]['PortfolioValue'],2),' value from ', HistData.index.max().strftime('%Y-%m-%d'), ' as the latest valuation to base the monetary returns')\n",
    "    ValueLocForPercentile = round(len(HistData) * (1 - (Percentile / 100)))\n",
    "    if info == 1: print('[INFO] Picking the', ValueLocForPercentile, 'th highest value')\n",
    "    global SortedHistData\n",
    "    SortedHistData = HistData.sort_values(by=['DollarChange'])\n",
    "    if info == 1: print('[INFO] Sorting the results by highest max loss')\n",
    "    VaR_Result = SortedHistData.iloc[ValueLocForPercentile + 1,len(SortedHistData.columns)-1] * np.sqrt(VarDaysHorizon)\n",
    "    print('The portfolio\\'s VaR is:', round(VaR_Result,2))\n",
    "\n",
    "CalculateVaR()"
   ]
  },
  {
   "cell_type": "code",
   "execution_count": 6,
   "metadata": {},
   "outputs": [
    {
     "name": "stdout",
     "output_type": "stream",
     "text": [
      "The portfolios's Expected Shortfall is -57978.86697000038\n"
     ]
    }
   ],
   "source": [
    "def CalculateES():\n",
    "    ValueLocForPercentile = round(len(HistData) * (1 - (Percentile / 100)))\n",
    "    ES_Result = round(SortedHistData['DollarChange'].head(ValueLocForPercentile).mean(axis=0),2) * np.sqrt(VarDaysHorizon)\n",
    "    print('The portfolios\\'s Expected Shortfall is', ES_Result)\n",
    "    \n",
    "CalculateES()"
   ]
  },
  {
   "cell_type": "code",
   "execution_count": 7,
   "metadata": {},
   "outputs": [
    {
     "name": "stdout",
     "output_type": "stream",
     "text": [
      "[INFO] Fetching stock prices for portfolio holdings\n",
      "[INFO] Portfolio Holdings determined as ['GOOGL', 'TSLA', 'AAPL']\n",
      "[INFO] Portfolio Weights determined as [100, 50, 300]\n",
      "[*********************100%***********************]  3 of 3 completed\n",
      "[INFO] Fetching stock prices completed. 1034 days.\n",
      "HistData: \n",
      "                   AAPL        GOOGL        TSLA\n",
      "Date                                           \n",
      "2016-02-02   88.079926   780.909973  182.779999\n",
      "2016-02-03   89.823242   749.380005  173.479996\n",
      "2016-02-04   90.544991   730.030029  175.330002\n",
      "2016-02-05   88.126694   703.760010  162.600006\n",
      "2016-02-08   89.054657   704.159973  147.990005\n",
      "...                ...          ...         ...\n",
      "2020-03-05  292.920013  1314.760010  724.539978\n",
      "2020-03-06  289.029999  1295.739990  703.479980\n",
      "2020-03-09  266.170013  1215.790039  608.000000\n",
      "2020-03-10  285.339996  1275.170044  645.330017\n",
      "2020-03-11  275.429993  1210.900024  634.229980\n",
      "\n",
      "[1034 rows x 3 columns]\n",
      "[INFO] Calculating the portfolio value for each day\n",
      "Tickers:  ['GOOGL', 'TSLA', 'AAPL']\n",
      "[INFO] Calculating Daily % Changes\n",
      "[INFO] Picking 235430.5  value from  2020-03-11  as the latest valuation to base the monetary returns\n",
      "[INFO] Picking the 52 th highest value\n",
      "[INFO] Sorting the results by highest max loss\n",
      "The portfolio's VaR is: -38811.93\n",
      "The portfolios's Expected Shortfall is -57978.86697000038\n"
     ]
    }
   ],
   "source": [
    "SourceHistoricPrices()\n",
    "ValuePortfolio()\n",
    "CalculateVaR()\n",
    "CalculateES()"
   ]
  },
  {
   "cell_type": "code",
   "execution_count": 8,
   "metadata": {},
   "outputs": [
    {
     "name": "stderr",
     "output_type": "stream",
     "text": [
      "C:\\Users\\chris\\Anaconda3\\lib\\site-packages\\ipykernel_launcher.py:7: MatplotlibDeprecationWarning: \n",
      "The 'normed' kwarg was deprecated in Matplotlib 2.1 and will be removed in 3.1. Use 'density' instead.\n",
      "  import sys\n",
      "C:\\Users\\chris\\Anaconda3\\lib\\site-packages\\numpy\\lib\\histograms.py:824: RuntimeWarning: invalid value encountered in greater_equal\n",
      "  keep = (tmp_a >= first_edge)\n",
      "C:\\Users\\chris\\Anaconda3\\lib\\site-packages\\numpy\\lib\\histograms.py:825: RuntimeWarning: invalid value encountered in less_equal\n",
      "  keep &= (tmp_a <= last_edge)\n"
     ]
    },
    {
     "data": {
      "image/png": "[encoded data removed]",
      "text/plain": [
       "<Figure size 432x288 with 1 Axes>"
      ]
     },
     "metadata": {
      "needs_background": "light"
     },
     "output_type": "display_data"
    }
   ],
   "source": [
    "import scipy\n",
    "import scipy.stats, matplotlib.pyplot as plt\n",
    "def plotme():\n",
    "    data1 = HistData['Perc_Change']\n",
    "    num_bins = 50\n",
    "    # the histogram of the data\n",
    "    n, bins, patches = plt.hist(data1, num_bins, normed=1, facecolor='green', alpha=0.5)\n",
    "    # add a 'best fit' line\n",
    "    sigma = HistData['Perc_Change'].std()\n",
    "    data2 = scipy.stats.norm.pdf(bins, 0, sigma)\n",
    "    plt.plot(bins, data2, 'r--')\n",
    "    plt.xlabel('Percentage Change')\n",
    "    plt.ylabel('Probability/Frequency')\n",
    "    # Tweak spacing to prevent clipping of ylabel\n",
    "    plt.subplots_adjust(left=0.15)\n",
    "    plt.show()\n",
    "plotme()"
   ]
  },
  {
   "cell_type": "code",
   "execution_count": null,
   "metadata": {},
   "outputs": [],
   "source": []
  }
 ],
 "metadata": {
  "kernelspec": {
   "display_name": "Python 3",
   "language": "python",
   "name": "python3"
  },
  "language_info": {
   "codemirror_mode": {
    "name": "ipython",
    "version": 3
   },
   "file_extension": ".py",
   "mimetype": "text/x-python",
   "name": "python",
   "nbconvert_exporter": "python",
   "pygments_lexer": "ipython3",
   "version": "3.7.3"
  }
 },
 "nbformat": 4,
 "nbformat_minor": 2
}
