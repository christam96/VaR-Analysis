{
 "cells": [
  {
   "cell_type": "markdown",
   "metadata": {},
   "source": [
    "### VaR Historical Simulation\n",
    "The Historical Simulation Method entails calculating daily portfolio changes in value to determine the probability distribution of returns. It does that by looking at how your portfolio would have behaved historically.\n",
    "Once you have your portfolio’s returns, or losses, you can calculate within a confidence interval the worst possible outcome.\n",
    "\n",
    "Tutorial: https://towardsdatascience.com/learn-to-calculate-your-portfolios-value-at-risk-e1e2c5c68456"
   ]
  },
  {
   "cell_type": "code",
   "execution_count": 24,
   "metadata": {},
   "outputs": [],
   "source": [
    "# Imports\n",
    "import pandas as pd\n",
    "import seaborn as sns\n",
    "import matplotlib.pyplot as plt\n",
    "import numpy as np\n",
    "import yfinance as yf\n",
    "import datetime as dt\n",
    "\n",
    "# Display at most 10 rows\n",
    "pd.set_option('display.max_rows', 10)\n"
   ]
  },
  {
   "cell_type": "code",
   "execution_count": 47,
   "metadata": {},
   "outputs": [
    {
     "name": "stdout",
     "output_type": "stream",
     "text": [
      "['GOOGL', 'TSLA', 'AAPL']\n",
      "[INFO] Calculating the max amount of money the portfolio will lose within 50 days 95 percent of the time.\n"
     ]
    }
   ],
   "source": [
    "'''\n",
    "User Set Up\n",
    "'''\n",
    "\n",
    "data = {'Stocks':['GOOGL', 'TSLA','AAPL'], 'Quantity':[100, 50, 300]} #Define your holdings\n",
    "ScenariosNo = 1500 #Define the number of scenarios you want to run (i.e. # days looking back)\n",
    "Percentile = 95 #Define your confidence interval\n",
    "VarDaysHorizon = 50 #Define your time period\n",
    "info = 1 #1 if you want more info returned by the script\n",
    "today = dt.date.today() - dt.timedelta(days=1)\n",
    "\n",
    "Tickers = []\n",
    "for ticker in data['Stocks']:\n",
    "    Tickers.append(ticker)\n",
    "print(Tickers)\n",
    "\n",
    "# Create a DataFrame of holdings\n",
    "df = pd.DataFrame(data)\n",
    "print('[INFO] Calculating the max amount of money the portfolio will lose within', VarDaysHorizon, 'days', Percentile, 'percent of the time.')"
   ]
  },
  {
   "cell_type": "code",
   "execution_count": 48,
   "metadata": {},
   "outputs": [
    {
     "name": "stdout",
     "output_type": "stream",
     "text": [
      "[INFO] Fetching stock prices for portfolio holdings\n",
      "[INFO] Portfolio Holdings determined as ['GOOGL', 'TSLA', 'AAPL']\n",
      "[INFO] Portfolio Weights determined as [100, 50, 300]\n",
      "[*********************100%***********************]  3 of 3 completed\n",
      "[INFO] Fetching stock prices completed. 1034 days.\n",
      "HistData: \n",
      "                   AAPL        GOOGL        TSLA\n",
      "Date                                           \n",
      "2016-01-25   92.703934   733.619995  196.380005\n",
      "2016-01-26   93.216660   733.789978  193.559998\n",
      "2016-01-27   87.091728   717.580017  188.070007\n",
      "2016-01-28   87.716331   748.299988  189.699997\n",
      "2016-01-29   90.746178   761.349976  191.199997\n",
      "...                ...          ...         ...\n",
      "2020-02-26  292.649994  1390.469971  778.799988\n",
      "2020-02-27  273.519989  1314.949951  679.000000\n",
      "2020-02-28  273.359985  1339.250000  667.989990\n",
      "2020-03-02  298.809998  1386.319946  743.619995\n",
      "2020-03-03  289.320007  1337.719971  745.510010\n",
      "\n",
      "[1034 rows x 3 columns]\n"
     ]
    }
   ],
   "source": [
    "def SourceHistoricPrices():\n",
    "    if info == 1: print('[INFO] Fetching stock prices for portfolio holdings')\n",
    "    Tickers = []\n",
    "    i=0\n",
    "    for ticker in data:\n",
    "        while i <= len(data):\n",
    "            Tickers.append(data[ticker][i])\n",
    "            i=i+1\n",
    "    if info == 1: print('[INFO] Portfolio Holdings determined as', Tickers)\n",
    "    if info == 1: print('[INFO] Portfolio Weights determined as', data['Quantity'])\n",
    "    \n",
    "    #Call the yFinance and store the data\n",
    "    global HistData\n",
    "    endDate =(dt.date.today() - dt.timedelta(days=ScenariosNo))\n",
    "    HistData = yf.download(\"GOOGL TSLA AAPL\", start =str(endDate), end =str(today))\n",
    "    \n",
    "    if info == 1: print('[INFO] Fetching stock prices completed.', len(HistData), 'days.')\n",
    "    HistData= HistData['Adj Close']\n",
    "    print('HistData: \\n', HistData)\n",
    "    return(HistData)\n",
    "\n",
    "HistData = SourceHistoricPrices()"
   ]
  },
  {
   "cell_type": "code",
   "execution_count": 49,
   "metadata": {},
   "outputs": [
    {
     "name": "stdout",
     "output_type": "stream",
     "text": [
      "[INFO] Calculating the portfolio value for each day\n",
      "Tickers:  ['GOOGL', 'TSLA', 'AAPL']\n",
      "                  AAPL        GOOGL        TSLA  PortfolioValue\n",
      "Date                                                           \n",
      "2016-01-25   92.703934   733.619995  196.380005   110992.179871\n",
      "2016-01-26   93.216660   733.789978  193.559998   111021.995544\n",
      "2016-01-27   87.091728   717.580017  188.070007   107289.020538\n",
      "2016-01-28   87.716331   748.299988  189.699997   110629.898071\n",
      "2016-01-29   90.746178   761.349976  191.199997   112918.850708\n",
      "...                ...          ...         ...             ...\n",
      "2020-02-26  292.649994  1390.469971  778.799988   265781.994629\n",
      "2020-02-27  273.519989  1314.949951  679.000000   247500.991821\n",
      "2020-02-28  273.359985  1339.250000  667.989990   249332.495117\n",
      "2020-03-02  298.809998  1386.319946  743.619995   265455.993652\n",
      "2020-03-03  289.320007  1337.719971  745.510010   257843.499756\n",
      "\n",
      "[1034 rows x 4 columns]\n"
     ]
    }
   ],
   "source": [
    "def ValuePortfolio():\n",
    "    if info == 1: print('[INFO] Calculating the portfolio value for each day')\n",
    "    HistData['PortfolioValue'] = 0.0\n",
    "    print('Tickers: ', Tickers)\n",
    "    for i in range(len(HistData)):\n",
    "        val = (HistData[\"AAPL\"][i] * 300) + (HistData[\"GOOGL\"][i] * 100) + (HistData[\"TSLA\"][i] * 50)\n",
    "        HistData['PortfolioValue'][i] = val\n",
    "        \n",
    "HistData.fillna(0, inplace = True)\n",
    "ValuePortfolio()\n",
    "print(HistData)"
   ]
  },
  {
   "cell_type": "code",
   "execution_count": 50,
   "metadata": {},
   "outputs": [
    {
     "name": "stdout",
     "output_type": "stream",
     "text": [
      "[INFO] Calculating Daily % Changes\n",
      "[INFO] Picking 257843.5  value from  2020-03-03  as the latest valuation to base the monetary returns\n",
      "[INFO] Picking the 52 th highest value\n",
      "[INFO] Sorting the results by highest max loss\n",
      "The portfolio's VaR is: -41862.13\n"
     ]
    }
   ],
   "source": [
    "def CalculateVaR():\n",
    "    if info == 1: print('[INFO] Calculating Daily % Changes')\n",
    "    #calculating percentage change\n",
    "    HistData['Perc_Change'] = HistData['PortfolioValue'].pct_change()\n",
    "    #calculate money change based on current valuation\n",
    "    HistData['DollarChange'] = HistData.loc[HistData.index.max()]['PortfolioValue'] * HistData['Perc_Change'] \n",
    "    if info == 1: print('[INFO] Picking', round(HistData.loc[HistData.index.max()]['PortfolioValue'],2),' value from ', HistData.index.max().strftime('%Y-%m-%d'), ' as the latest valuation to base the monetary returns')\n",
    "    ValueLocForPercentile = round(len(HistData) * (1 - (Percentile / 100)))\n",
    "    if info == 1: print('[INFO] Picking the', ValueLocForPercentile, 'th highest value')\n",
    "    global SortedHistData\n",
    "    SortedHistData = HistData.sort_values(by=['DollarChange'])\n",
    "    if info == 1: print('[INFO] Sorting the results by highest max loss')\n",
    "    VaR_Result = SortedHistData.iloc[ValueLocForPercentile + 1,len(SortedHistData.columns)-1] * np.sqrt(VarDaysHorizon)\n",
    "    print('The portfolio\\'s VaR is:', round(VaR_Result,2))\n",
    "\n",
    "CalculateVaR()"
   ]
  },
  {
   "cell_type": "code",
   "execution_count": 51,
   "metadata": {},
   "outputs": [
    {
     "name": "stdout",
     "output_type": "stream",
     "text": [
      "The portfolios's Expected Shortfall is -60722.58270236041\n"
     ]
    }
   ],
   "source": [
    "def CalculateES():\n",
    "    ValueLocForPercentile = round(len(HistData) * (1 - (Percentile / 100)))\n",
    "    ES_Result = round(SortedHistData['DollarChange'].head(ValueLocForPercentile).mean(axis=0),2) * np.sqrt(VarDaysHorizon)\n",
    "    print('The portfolios\\'s Expected Shortfall is', ES_Result)\n",
    "    \n",
    "CalculateES()"
   ]
  },
  {
   "cell_type": "code",
   "execution_count": 52,
   "metadata": {},
   "outputs": [
    {
     "name": "stdout",
     "output_type": "stream",
     "text": [
      "[INFO] Fetching stock prices for portfolio holdings\n",
      "[INFO] Portfolio Holdings determined as ['GOOGL', 'TSLA', 'AAPL']\n",
      "[INFO] Portfolio Weights determined as [100, 50, 300]\n",
      "[*********************100%***********************]  3 of 3 completed\n",
      "[INFO] Fetching stock prices completed. 1034 days.\n",
      "HistData: \n",
      "                   AAPL        GOOGL        TSLA\n",
      "Date                                           \n",
      "2016-01-25   92.703934   733.619995  196.380005\n",
      "2016-01-26   93.216660   733.789978  193.559998\n",
      "2016-01-27   87.091728   717.580017  188.070007\n",
      "2016-01-28   87.716331   748.299988  189.699997\n",
      "2016-01-29   90.746178   761.349976  191.199997\n",
      "...                ...          ...         ...\n",
      "2020-02-26  292.649994  1390.469971  778.799988\n",
      "2020-02-27  273.519989  1314.949951  679.000000\n",
      "2020-02-28  273.359985  1339.250000  667.989990\n",
      "2020-03-02  298.809998  1386.319946  743.619995\n",
      "2020-03-03  289.320007  1337.719971  745.510010\n",
      "\n",
      "[1034 rows x 3 columns]\n",
      "[INFO] Calculating the portfolio value for each day\n",
      "Tickers:  ['GOOGL', 'TSLA', 'AAPL']\n",
      "[INFO] Calculating Daily % Changes\n",
      "[INFO] Picking 257843.5  value from  2020-03-03  as the latest valuation to base the monetary returns\n",
      "[INFO] Picking the 52 th highest value\n",
      "[INFO] Sorting the results by highest max loss\n",
      "The portfolio's VaR is: -41862.13\n",
      "The portfolios's Expected Shortfall is -60722.58270236041\n"
     ]
    }
   ],
   "source": [
    "SourceHistoricPrices()\n",
    "ValuePortfolio()\n",
    "CalculateVaR()\n",
    "CalculateES()"
   ]
  },
  {
   "cell_type": "code",
   "execution_count": 55,
   "metadata": {},
   "outputs": [
    {
     "name": "stderr",
     "output_type": "stream",
     "text": [
      "C:\\Users\\chris\\Anaconda3\\lib\\site-packages\\ipykernel_launcher.py:7: MatplotlibDeprecationWarning: \n",
      "The 'normed' kwarg was deprecated in Matplotlib 2.1 and will be removed in 3.1. Use 'density' instead.\n",
      "  import sys\n"
     ]
    },
    {
     "data": {
      "image/png": "[encoded data removed]",
      "text/plain": [
       "<Figure size 432x288 with 1 Axes>"
      ]
     },
     "metadata": {
      "needs_background": "light"
     },
     "output_type": "display_data"
    },
    {
     "name": "stdout",
     "output_type": "stream",
     "text": [
      "0.01333165742136395\n",
      "0.0266633148427279\n"
     ]
    }
   ],
   "source": [
    "import scipy\n",
    "import scipy.stats, matplotlib.pyplot as plt\n",
    "def plotme():\n",
    "    data1 = HistData['Perc_Change']\n",
    "    num_bins = 50\n",
    "    # the histogram of the data\n",
    "    n, bins, patches = plt.hist(data1, num_bins, normed=1, facecolor='green', alpha=0.5)\n",
    "    # add a 'best fit' line\n",
    "    sigma = HistData['Perc_Change'].std()\n",
    "    data2 = scipy.stats.norm.pdf(bins, 0, sigma)\n",
    "    plt.plot(bins, data2, 'r--')\n",
    "    plt.xlabel('Percentage Change')\n",
    "    plt.ylabel('Probability/Frequency')\n",
    "    # Tweak spacing to prevent clipping of ylabel\n",
    "    plt.subplots_adjust(left=0.15)\n",
    "    plt.show()\n",
    "plotme()\n",
    "\n",
    "st_d = np.std(HistData['Perc_Change'])\n",
    "print(st_d)\n",
    "st_d = 2 *st_d\n",
    "print(st_d)"
   ]
  },
  {
   "cell_type": "code",
   "execution_count": null,
   "metadata": {},
   "outputs": [],
   "source": []
  },
  {
   "cell_type": "code",
   "execution_count": null,
   "metadata": {},
   "outputs": [],
   "source": []
  }
 ],
 "metadata": {
  "kernelspec": {
   "display_name": "Python 3",
   "language": "python",
   "name": "python3"
  },
  "language_info": {
   "codemirror_mode": {
    "name": "ipython",
    "version": 3
   },
   "file_extension": ".py",
   "mimetype": "text/x-python",
   "name": "python",
   "nbconvert_exporter": "python",
   "pygments_lexer": "ipython3",
   "version": "3.7.3"
  }
 },
 "nbformat": 4,
 "nbformat_minor": 2
}
